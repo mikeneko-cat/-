{
  "nbformat": 4,
  "nbformat_minor": 0,
  "metadata": {
    "colab": {
      "provenance": [],
      "authorship_tag": "ABX9TyMIuEaVERjrcPK7KCheN6Zs",
      "include_colab_link": true
    },
    "kernelspec": {
      "name": "python3",
      "display_name": "Python 3"
    },
    "language_info": {
      "name": "python"
    }
  },
  "cells": [
    {
      "cell_type": "markdown",
      "metadata": {
        "id": "view-in-github",
        "colab_type": "text"
      },
      "source": [
        "<a href=\"https://colab.research.google.com/github/mikeneko-cat/kimagure/blob/main/nanpure.ipynb\" target=\"_parent\"><img src=\"https://colab.research.google.com/assets/colab-badge.svg\" alt=\"Open In Colab\"/></a>"
      ]
    },
    {
      "cell_type": "markdown",
      "source": [
        "ナンプレを解く"
      ],
      "metadata": {
        "id": "sF3pR508aDq3"
      }
    },
    {
      "cell_type": "markdown",
      "source": [
        "方針 \\\n",
        "盤面を3×3の9つに分割する \\\n",
        "分割したマスを左上から右方向に順番に要素に入れていき、要素数9の配列とする \\\n",
        "分割したすべてについて配列を作成し、二重配列にする"
      ],
      "metadata": {
        "id": "7alnZC3IaQgK"
      }
    },
    {
      "cell_type": "code",
      "source": [
        "#テスト用問題\n",
        "question = [[0,0,0,4,7,0,2,0,0],[0,0,0,0,8,0,0,0,0],[8,0,7,0,0,3,1,0,0],[0,0,0,0,0,3,0,0,4],[6,0,0,8,1,5,0,0,2],[3,0,0,9,0,0,0,0,0],[0,0,8,5,0,0,9,0,7],[0,0,0,0,4,0,0,0,0],[0,0,5,0,2,9,0,0,0]]"
      ],
      "metadata": {
        "id": "ONXKHOSP5IZ4"
      },
      "execution_count": 67,
      "outputs": []
    },
    {
      "cell_type": "code",
      "source": [
        "class cal():\n",
        "  def row(lists,index):\n",
        "    return (3*(lists//3))+(index//3)\n",
        "\n",
        "  def col(lists,index):\n",
        "    return (3*(lists%3)) +(index%3)\n",
        "\n",
        "  def lists(row,col):\n",
        "    return (3*(row//3))+(col//3)\n",
        "\n",
        "  def index(row,col):\n",
        "    return (col%3)+(3*(row%3))"
      ],
      "metadata": {
        "id": "WMZz8al9jwhb"
      },
      "execution_count": 15,
      "outputs": []
    },
    {
      "cell_type": "code",
      "source": [
        "#選ばれたマスに対して入れることのできる数字のリストを返す\n",
        "def find(lists,index):\n",
        "  choices=[1,2,3,4,5,6,7,8,9]\n",
        "  for tile in question[lists]:\n",
        "    if tile in choices:\n",
        "      choices.remove(tile)\n",
        "  for j in range(3*(lists//3),3*(lists//3)+1):\n",
        "    group=question[j]\n",
        "    for k in range(3*(index//3),3*(index//3)+1):\n",
        "      tile = group[k]\n",
        "      if tile in choices:\n",
        "        choices.remove(tile)\n",
        "  for j in range(lists%3,9,3):\n",
        "    group=question[j]\n",
        "    for k in range(index%3,9,3):\n",
        "      tile=group[k]\n",
        "      if tile in choices:\n",
        "        choices.remove(tile)\n",
        "  return choices"
      ],
      "metadata": {
        "id": "TDF0sFRBnS7J"
      },
      "execution_count": 44,
      "outputs": []
    },
    {
      "cell_type": "code",
      "source": [
        "#reserveは[[[埋めた場所],[lists,index],[choicebul]],[[question],[lists,index],[choicebul]]]と追加していく\n",
        "\n",
        "class force_choice():\n",
        "  reserve =[]\n",
        "\n",
        "  def fill(self,tile):\n",
        "    self.reserve[-1][0].append(tile)\n",
        "\n",
        "  def turn_buck(self,qt):\n",
        "    while len(self.reserve[-1][0])>0:\n",
        "      qt[self.reserve[-1][0][-1][0]][self.reserve[-1][0][-1][1]]=0\n",
        "      self.reserve[-1][0].pop(-1)\n",
        "    return qt\n",
        "\n",
        "  #一番最初の空白のマスに選択可能な数字を入れる\n",
        "  def choice(self,quest):\n",
        "    #新しいマスに対して適用\n",
        "    for i , lists in enumerate(quest):\n",
        "      if 0 in lists:\n",
        "        index=lists.index(0)\n",
        "        self.reserve.append([])\n",
        "        self.reserve[-1].append([])\n",
        "        self.reserve[-1].append([i,index])\n",
        "        self.reserve[-1].append(find(i,index))\n",
        "        break\n",
        "\n",
        "    while True:\n",
        "      if len(self.reserve[-1][2])==0:\n",
        "        quest=self.turn_buck(quest)\n",
        "        self.reserve.pop(-1)\n",
        "        continue\n",
        "      quest=self.turn_buck(quest)\n",
        "      quest[self.reserve[-1][1][0]][self.reserve[-1][1][1]]=self.reserve[-1][2][0]\n",
        "      self.fill(self.reserve[-1][1])\n",
        "      self.reserve[-1][2].pop(0)\n",
        "      break\n",
        "    return quest\n"
      ],
      "metadata": {
        "id": "oOuILKYSgvR6"
      },
      "execution_count": 53,
      "outputs": []
    },
    {
      "cell_type": "code",
      "execution_count": 6,
      "metadata": {
        "id": "odZvtW6yZho9"
      },
      "outputs": [],
      "source": [
        "#問題となる配列を入力する\n",
        "def in_question():\n",
        "  print(\"問題を入力 \\n １グループごとに左上から入力　カンマ、スペースなし9桁の数字で入力\")\n",
        "  x=[]\n",
        "  for i in input(\"上段左\"):\n",
        "    x.append(int(i))\n",
        "  question.append(x)\n",
        "  x=[]\n",
        "  for i in input(\"上段中央\"):\n",
        "    x.append(int(i))\n",
        "  question.append(x)\n",
        "  x=[]\n",
        "  for i in input(\"上段右\"):\n",
        "    x.append(int(i))\n",
        "  question.append(x)\n",
        "  x=[]\n",
        "  for i in input(\"中段左\"):\n",
        "    x.append(int(i))\n",
        "  question.append(x)\n",
        "  x=[]\n",
        "  for i in input(\"中段中央\"):\n",
        "    x.append(int(i))\n",
        "  question.append(x)\n",
        "  x=[]\n",
        "  for i in input(\"中段右\"):\n",
        "    x.append(int(i))\n",
        "  question.append(x)\n",
        "  x=[]\n",
        "  for i in input(\"下段左\"):\n",
        "    x.append(int(i))\n",
        "  question.append(x)\n",
        "  x=[]\n",
        "  for i in input(\"下段中央\"):\n",
        "    x.append(int(i))\n",
        "  question.append(x)\n",
        "  x=[]\n",
        "  for i in input(\"下段右\"):\n",
        "    x.append(int(i))\n",
        "  question.append(x)\n"
      ]
    },
    {
      "cell_type": "code",
      "source": [
        "#盤面上の数字の数と空白のマスをカウントして表示する\n",
        "#リスト内は左から空白のマス数,1,2,3,4,5,6,7,8,9となる\n",
        "def scan():\n",
        "  counter=[0,0,0,0,0,0,0,0,0,0]\n",
        "  for lists in question:\n",
        "    for tile in lists:\n",
        "      counter[tile]+=1\n",
        "  print(f\"\\r空白:{counter[0]}個 1:{counter[1]}個 2:{counter[2]}個 3:{counter[3]}個 4:{counter[4]}個 5:{counter[5]}個 6:{counter[6]}個 7:{counter[7]}個 8:{counter[8]}個 9:{counter[9]}個\",end=\" \")\n",
        "  return counter[0]"
      ],
      "metadata": {
        "id": "rgx9dJ4CkQij"
      },
      "execution_count": 7,
      "outputs": []
    },
    {
      "cell_type": "code",
      "source": [
        "#盤面を出力する\n",
        "#初めに1～9行の上から表示させていくために表示させる行をfor文で回していく\n",
        "#次に何番目の要素を出力するかをfor文で回していく\n",
        "def show():\n",
        "  print(31*'-')\n",
        "  for row in range(9):\n",
        "    print('|',end=\"\")\n",
        "    for col in range(9):\n",
        "      lists = cal.lists(row,col)\n",
        "      in_list = cal.index(row,col)\n",
        "      num = question[lists][in_list]\n",
        "      if num ==0:\n",
        "        print('{:^3}'.format(\" \"),end=\"\")\n",
        "      else:\n",
        "        print('{:^3}'.format(num),end=\"\")\n",
        "      if col in [2,5,8]:\n",
        "        print('|',end=\"\")\n",
        "    print()\n",
        "    if row in [2,5,8]:\n",
        "      print(31*'-')"
      ],
      "metadata": {
        "id": "vau3pdPsdVvV"
      },
      "execution_count": 68,
      "outputs": []
    },
    {
      "cell_type": "code",
      "source": [
        "#ナンプレを解いていく\n",
        "#3×3のマスに対してすべての要素が埋まるまであと一つのグループがあれば適切な数値を入れる\n",
        "def check_list(fc,boolean):\n",
        "  #グループのリストに対して処理を実行する\n",
        "  #list_indexには何番目のリストかを決める\n",
        "  for list_index , lists in enumerate(question):\n",
        "    list_list=[]\n",
        "    answer_list=[1,2,3,4,5,6,7,8,9]\n",
        "    for ele in lists:\n",
        "      list_list.append(ele)\n",
        "      if ele in answer_list:\n",
        "        answer_list.remove(ele)\n",
        "\n",
        "    #入れてないマスが一つだけの時、何列目かを求めそれをもとにリストのスライスを用いて置換する\n",
        "    if len(answer_list)==1:\n",
        "      if 0 in list_list:\n",
        "        index=list_list.index(0)\n",
        "        if answer_list[0] in find(list_index,index):\n",
        "          question[list_index][index]=answer_list[0]\n",
        "          if boolean:\n",
        "            fc.fill([list_index,index])\n",
        "      else:\n",
        "        break"
      ],
      "metadata": {
        "id": "b72wyCCACBQn"
      },
      "execution_count": 34,
      "outputs": []
    },
    {
      "cell_type": "code",
      "source": [
        "#ナンプレを解いていく\n",
        "#各行に対してすべての要素が埋まるまであと一つの行があれば適切な数値を入れる\n",
        "def check_row(fc,boolean):\n",
        "\n",
        "  #行のリストを作り、処理を実行する\n",
        "  #listsには何番目のリストかを、in_listには指定したリストの何番目の要素化を決める\n",
        "  for row in range(9):\n",
        "    row_list=[]\n",
        "    answer_list=[1,2,3,4,5,6,7,8,9]\n",
        "    for col in range(9):\n",
        "      lists = (3*(row//3))+(col//3)\n",
        "      in_list = (col%3)+(3*(row%3))\n",
        "      row_list.append(question[lists][in_list])\n",
        "      if question[lists][in_list] in answer_list:\n",
        "        answer_list.remove(question[lists][in_list])\n",
        "\n",
        "    #入れてないマスが一つだけの時、何列目かを求めそれをもとにリストのスライスを用いて置換する\n",
        "    if len(answer_list)==1:\n",
        "      if 0 in row_list:\n",
        "        index=row_list.index(0)\n",
        "        if answer_list[0] in find(cal.lists(row,index),cal.index(row,index)):\n",
        "          question[cal.lists(row,index)][cal.index(row,index)]=answer_list[0]\n",
        "          if boolean:\n",
        "            fc.fill([cal.lists(row,index),cal.index(row,index)])\n",
        "\n",
        "        else:\n",
        "          break"
      ],
      "metadata": {
        "id": "MoTvgI2KqQdQ"
      },
      "execution_count": 35,
      "outputs": []
    },
    {
      "cell_type": "code",
      "source": [
        "#ナンプレを解いていく\n",
        "#各列に対してすべての要素が埋まるまであと一つの列があれば適切な数値を入れる\n",
        "def check_column(fc,boolean):\n",
        "  #列のリストを作り処理を実行する\n",
        "  #listsには何番目のリストかを、in_listには指定したリストの何番目の要素化を決める\n",
        "  for col in range(9):\n",
        "    col_list=[]\n",
        "    answer_list=[1,2,3,4,5,6,7,8,9]\n",
        "    for row in range(9):\n",
        "      lists = (3*(row//3))+(col//3)\n",
        "      in_list = (3*(row%3))+(col%3)\n",
        "      col_list.append(question[lists][in_list])\n",
        "      if question[lists][in_list] in answer_list:\n",
        "        answer_list.remove(question[lists][in_list])\n",
        "\n",
        "\n",
        "    #入れてないマスが一つだけの時、何列目かを求めそれをもとにリストのスライスを用いて置換する\n",
        "    if len(answer_list)==1:\n",
        "      if 0 in col_list:\n",
        "        index=col_list.index(0)\n",
        "        if answer_list[0] in find(cal.lists(index,col),cal.index(index,col)):\n",
        "          question[cal.lists(index,col)][cal.index(index,col)]=answer_list[0]\n",
        "          if boolean:\n",
        "            fc.fill([cal.lists(index,col),cal.index(index,col)])\n",
        "        else:\n",
        "          break\n",
        "      else:\n",
        "        break"
      ],
      "metadata": {
        "id": "4Tw8bbhp1RXC"
      },
      "execution_count": 36,
      "outputs": []
    },
    {
      "cell_type": "code",
      "source": [
        "#ナンプレを解いていく\n",
        "#同じ数字の場所から埋めることのできる場所を割り出す\n",
        "def check_num(fc,boolean):\n",
        "\n",
        "  #1～9の数字を順番に指定し、指定した数字があるi行j列のiとjをそれぞれのリストから消し、入れることのできるマスを割り出していく\n",
        "  #rows,colsは左上を0行0列として0～8で表す\n",
        "\n",
        "  #1～9の数字を指定\n",
        "  for num in range(1,10):\n",
        "    rows = [0,1,2,3,4,5,6,7,8]\n",
        "    cols = [0,1,2,3,4,5,6,7,8]\n",
        "\n",
        "    #左上のグループから順番に読み,入れることができる行数と列数を集めたグループを作る\n",
        "    for lists , group in enumerate(question):\n",
        "      if num in group:\n",
        "        index = group.index(num)\n",
        "        row = cal.row(lists,index)\n",
        "        col = cal.col(lists,index)\n",
        "        if row in rows:\n",
        "          rows.remove(row)\n",
        "        if col in cols:\n",
        "          cols.remove(col)\n",
        "\n",
        "\n",
        "    #指定した数字を入れることができるグループを作る\n",
        "    tile_list = []\n",
        "    for row in rows:\n",
        "      for col in cols:\n",
        "        lists = cal.lists(row,col)\n",
        "        in_list = cal.index(row,col)\n",
        "        if (question[lists][in_list] == 0) & (num not in question[lists]):\n",
        "          tile_list.append([lists,in_list])\n",
        "\n",
        "    #選択可能なマスがグループに一つしかないときかつグループ内にまだその数字がない時指定した数字を入れる\n",
        "    #数字を入れた後同じグループ、列、行の候補をリストから削除する\n",
        "    for i , tile in enumerate(tile_list):\n",
        "      not_find = True\n",
        "      for k , x in enumerate(tile_list):\n",
        "        if (i !=k) & (tile[0]==x[0]):\n",
        "          not_find = False\n",
        "          break\n",
        "      if not_find:\n",
        "\n",
        "        row = cal.row(tile[0],tile[1])\n",
        "        col = cal.col(tile[0],tile[1])\n",
        "        question[tile[0]][tile[1]]=num\n",
        "        if boolean:\n",
        "          fc.fill(tile)\n",
        "        count=0\n",
        "        for k in range(len(tile_list)):\n",
        "          y=tile_list[count]\n",
        "          y_row = cal.row(y[0],y[1])\n",
        "          y_col = cal.col(y[0],y[1])\n",
        "          if (y[0]==tile[0]) | (y_row == row) | (y_col == col):\n",
        "            tile_list.remove(y)\n",
        "            continue\n",
        "          count += 1\n",
        "\n",
        "\n",
        "    #特定の行または列に対して、入れることのできるマスが一つしかないとき数字を入れる\n",
        "    #数字を入れた後同じグループ、列、行の候補をリストから削除する\n",
        "    for tile in tile_list:\n",
        "      row_count=col_count=0\n",
        "      row = cal.row(tile[0],tile[1])\n",
        "      col = cal.col(tile[0],tile[1])\n",
        "      for x in tile_list:\n",
        "        x_row = cal.row(x[0],x[1])\n",
        "        x_col = cal.col(x[0],x[1])\n",
        "        if row == x_row:\n",
        "          row_count+=1\n",
        "        if col == x_col:\n",
        "          col_count+=1\n",
        "      if (row_count ==1) | (col_count==1):\n",
        "        question[tile[0]][tile[1]]=num\n",
        "        if boolean:\n",
        "          fc.fill(tile)\n",
        "        count=0\n",
        "        for k in range(len(tile_list)):\n",
        "          y=tile_list[count]\n",
        "          y_row = (3*(y[0]//3))+(y[1]//3)\n",
        "          y_col = (3*(y[0]%3)) +(y[1]%3)\n",
        "          if (y[0]==tile[0]) | (y_row == row) | (y_col == col):\n",
        "            tile_list.remove(y)\n",
        "            continue\n",
        "          count += 1\n",
        "    #以下1～9まで繰り返し\n"
      ],
      "metadata": {
        "id": "RQC4m9jBp1JP"
      },
      "execution_count": 65,
      "outputs": []
    },
    {
      "cell_type": "code",
      "source": [
        "\n",
        "question = []\n",
        "in_question()\n",
        "\n",
        "\n",
        "print(\"Question\")\n",
        "show()\n",
        "empty = scan()\n",
        "fc=force_choice()\n",
        "boolean=False\n",
        "input(\"\\nstart?\\n\")\n",
        "while True:\n",
        "  check_num(fc,boolean)\n",
        "  check_list(fc,boolean)\n",
        "  check_column(fc,boolean)\n",
        "  check_row(fc,boolean)\n",
        "\n",
        "  if scan()==0:\n",
        "    break\n",
        "  elif empty==scan():\n",
        "    question =fc.choice(question)\n",
        "    boolean =True\n",
        "  else:\n",
        "    empty = scan()\n",
        "\n",
        "print(\"\\n\\nAnswer\")\n",
        "show()"
      ],
      "metadata": {
        "colab": {
          "base_uri": "https://localhost:8080/"
        },
        "id": "AZ_yFBoIi3Y8",
        "outputId": "37c83f5f-ba80-4473-da86-ea3778396897"
      },
      "execution_count": 69,
      "outputs": [
        {
          "output_type": "stream",
          "name": "stdout",
          "text": [
            "Question\n",
            "-------------------------------\n",
            "|         |         | 8     7 |\n",
            "| 4  7    |    8    |       3 |\n",
            "| 2       |         | 1       |\n",
            "-------------------------------\n",
            "|         | 6       | 3       |\n",
            "|       3 | 8  1  5 | 9       |\n",
            "|       4 |       2 |         |\n",
            "-------------------------------\n",
            "|       8 |         |       5 |\n",
            "| 5       |    4    |    2  9 |\n",
            "| 9     7 |         |         |\n",
            "-------------------------------\n",
            "\r空白:56個 1:2個 2:3個 3:3個 4:3個 5:3個 6:1個 7:3個 8:4個 9:3個 \n",
            "start?\n",
            "\n",
            "空白:0個 1:9個 2:9個 3:9個 4:9個 5:9個 6:9個 7:9個 8:9個 9:9個 \n",
            "\n",
            "Answer\n",
            "-------------------------------\n",
            "| 6  3  1 | 4  2  9 | 8  5  7 |\n",
            "| 4  7  5 | 1  8  6 | 2  9  3 |\n",
            "| 2  8  9 | 5  7  3 | 1  6  4 |\n",
            "-------------------------------\n",
            "| 8  5  2 | 6  9  4 | 3  7  1 |\n",
            "| 7  6  3 | 8  1  5 | 9  4  2 |\n",
            "| 1  9  4 | 7  3  2 | 5  8  6 |\n",
            "-------------------------------\n",
            "| 3  2  8 | 9  6  7 | 4  1  5 |\n",
            "| 5  1  6 | 3  4  8 | 7  2  9 |\n",
            "| 9  4  7 | 2  5  1 | 6  3  8 |\n",
            "-------------------------------\n"
          ]
        }
      ]
    }
  ]
}